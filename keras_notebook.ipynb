{
 "cells": [
  {
   "cell_type": "markdown",
   "metadata": {
    "_cell_guid": "e61ef2d8-f315-4f7f-b07e-1de0f4e8441a",
    "_uuid": "1677fddbb95f7545b6540e9201f3339a0fdbfc5d"
   },
   "source": [
    "# Intro\n",
    "This quick and dirty kernel shows how to implement a dilated conv network segmenting nuclei using a neural network in Keras.  This is based on a kernel from  [Kaggle](https://www.kaggle.com/keegil/keras-u-net-starter-lb-0-277) which uses the popular [U-Net](https://arxiv.org/abs/1505.04597) implementation for semantic segmentation.\n",
    "\n",
    "The architecture we are using is a convolutional network with [dilated convolutions](https://arxiv.org/abs/1511.07122), which is a method of convolution that allows for a larger receptive field while only slowly increasing the number of required parameters. A good visualization of a dilated convolution is found on [github](https://github.com/vdumoulin/conv_arithmetic). Finally a good blog post to learn about semantic segmentation is found on the [qure.ai blog](http://blog.qure.ai/notes/semantic-segmentation-deep-learning-review).\n",
    "\n",
    "Let's get started importing everything we need!"
   ]
  },
  {
   "cell_type": "code",
   "execution_count": 13,
   "metadata": {
    "_cell_guid": "c332549b-8d23-4bb5-8497-e7a8eb8b21d2",
    "_uuid": "5c38504af3a84bee68c66d3cde74443c58df422f",
    "collapsed": false
   },
   "outputs": [],
   "source": [
    "import os\n",
    "import sys\n",
    "import random\n",
    "import warnings\n",
    "\n",
    "import numpy as np\n",
    "import pandas as pd\n",
    "\n",
    "import matplotlib.pyplot as plt\n",
    "\n",
    "from tqdm import tqdm\n",
    "from itertools import chain\n",
    "from skimage.io import imread, imshow, imread_collection, concatenate_images\n",
    "from skimage.transform import resize\n",
    "from skimage.morphology import label\n",
    "\n",
    "from keras.models import Model, load_model\n",
    "from keras.layers import Input\n",
    "from keras.layers.core import Dropout, Lambda\n",
    "from keras.layers.convolutional import Conv2D, Conv2DTranspose\n",
    "from keras.layers.pooling import MaxPooling2D\n",
    "from keras.layers.merge import concatenate\n",
    "from keras.callbacks import EarlyStopping, ModelCheckpoint\n",
    "from keras import backend as K\n",
    "\n",
    "import tensorflow as tf\n",
    "\n",
    "# Set some parameters\n",
    "IMG_WIDTH = 128\n",
    "IMG_HEIGHT = 128\n",
    "IMG_CHANNELS = 3\n",
    "BASE_PATH = os.getcwd()\n",
    "TRAIN_PATH = BASE_PATH+'/input/stage1_train/'\n",
    "TEST_PATH = BASE_PATH+'/input/stage1_test/'\n",
    "\n",
    "warnings.filterwarnings('ignore', category=UserWarning, module='skimage')\n",
    "seed = 42\n",
    "random.seed = seed\n",
    "np.random.seed = seed"
   ]
  },
  {
   "cell_type": "code",
   "execution_count": 14,
   "metadata": {
    "_cell_guid": "ffa0caf0-2d1b-40f2-865b-8e6db88526b6",
    "_uuid": "3fb9d6530fbbd0e22e41fc4fd9fd9fc0bff027ac",
    "collapsed": false
   },
   "outputs": [],
   "source": [
    "# Get train and test IDs\n",
    "train_ids = next(os.walk(TRAIN_PATH))[1]\n",
    "test_ids = next(os.walk(TEST_PATH))[1]"
   ]
  },
  {
   "cell_type": "markdown",
   "metadata": {
    "_cell_guid": "59c4a25d-645f-4b74-9c53-145ac78cc481",
    "_uuid": "875af74f980236825de3a650825b46e25632422c"
   },
   "source": [
    "# Get the data\n",
    "We want to get the imported data and the masks. The data is in the form of png images of cell stains, and the masks are essentially the outlines and fill-ins of these cell images on the slides. A visualization is shown below. It is a good idea to downsample everything, only because we don't have the processing power necessary to tackle a full 256x256 image. We will upsample at the end of the process."
   ]
  },
  {
   "cell_type": "code",
   "execution_count": 15,
   "metadata": {
    "_cell_guid": "ca0cc34b-c26f-41ee-88d7-975aebdb634e",
    "_uuid": "9e389ba8bdb5b6fc03b231b6a6c84a8bde634053",
    "collapsed": false
   },
   "outputs": [
    {
     "name": "stdout",
     "output_type": "stream",
     "text": [
      "Getting and resizing train images and masks ... \n"
     ]
    },
    {
     "name": "stderr",
     "output_type": "stream",
     "text": [
      "100%|██████████| 670/670 [02:10<00:00,  5.13it/s]"
     ]
    },
    {
     "name": "stdout",
     "output_type": "stream",
     "text": [
      "Getting and resizing test images ... \n"
     ]
    },
    {
     "name": "stderr",
     "output_type": "stream",
     "text": [
      "\n",
      "100%|██████████| 65/65 [00:01<00:00, 57.74it/s]"
     ]
    },
    {
     "name": "stdout",
     "output_type": "stream",
     "text": [
      "Done!\n"
     ]
    },
    {
     "name": "stderr",
     "output_type": "stream",
     "text": [
      "\n"
     ]
    }
   ],
   "source": [
    "# Get and resize train images and masks\n",
    "X_train = np.zeros((len(train_ids), IMG_HEIGHT, IMG_WIDTH, IMG_CHANNELS), dtype=np.uint8)\n",
    "Y_train = np.zeros((len(train_ids), IMG_HEIGHT, IMG_WIDTH, 1), dtype=np.bool)\n",
    "print('Getting and resizing train images and masks ... ')\n",
    "sys.stdout.flush()\n",
    "for n, id_ in tqdm(enumerate(train_ids), total=len(train_ids)):\n",
    "    path = TRAIN_PATH + id_\n",
    "    img = imread(path + '/images/' + id_ + '.png')[:,:,:IMG_CHANNELS]\n",
    "    img = resize(img, (IMG_HEIGHT, IMG_WIDTH), mode='constant', preserve_range=True)\n",
    "    X_train[n] = img\n",
    "    mask = np.zeros((IMG_HEIGHT, IMG_WIDTH, 1), dtype=np.bool)\n",
    "    for mask_file in next(os.walk(path + '/masks/'))[2]:\n",
    "        mask_ = imread(path + '/masks/' + mask_file)\n",
    "        mask_ = np.expand_dims(resize(mask_, (IMG_HEIGHT, IMG_WIDTH), mode='constant', \n",
    "                                      preserve_range=True), axis=-1)\n",
    "        mask = np.maximum(mask, mask_)\n",
    "    Y_train[n] = mask\n",
    "\n",
    "# Get and resize test images\n",
    "X_test = np.zeros((len(test_ids), IMG_HEIGHT, IMG_WIDTH, IMG_CHANNELS), dtype=np.uint8)\n",
    "sizes_test = []\n",
    "print('Getting and resizing test images ... ')\n",
    "sys.stdout.flush()\n",
    "for n, id_ in tqdm(enumerate(test_ids), total=len(test_ids)):\n",
    "    path = TEST_PATH + id_\n",
    "    img = imread(path + '/images/' + id_ + '.png')[:,:,:IMG_CHANNELS]\n",
    "    sizes_test.append([img.shape[0], img.shape[1]])\n",
    "    img = resize(img, (IMG_HEIGHT, IMG_WIDTH), mode='constant', preserve_range=True)\n",
    "    X_test[n] = img\n",
    "\n",
    "print('Done!')"
   ]
  },
  {
   "cell_type": "markdown",
   "metadata": {
    "_cell_guid": "c0523b03-1fc5-4505-a1b8-eb35ee617c8a",
    "_uuid": "d4f8327802a1ec6139ce0585953986272ba62ce1"
   },
   "source": [
    "Let's see if things look all right by drawing some random images and their associated masks."
   ]
  },
  {
   "cell_type": "code",
   "execution_count": 16,
   "metadata": {
    "_cell_guid": "88829b53-50ce-45d9-9540-77dd7384ad4c",
    "_uuid": "283af26f0860b7069bdfd133c746e5d20971542c",
    "collapsed": false
   },
   "outputs": [
    {
     "name": "stderr",
     "output_type": "stream",
     "text": [
      "/Users/Azeemdor/.virtualenvs/keras_tf_3.6/lib/python3.6/site-packages/skimage/io/_plugins/matplotlib_plugin.py:51: FutureWarning: Conversion of the second argument of issubdtype from `float` to `np.floating` is deprecated. In future, it will be treated as `np.float64 == np.dtype(float).type`.\n",
      "  out_of_range_float = (np.issubdtype(image.dtype, np.float) and\n",
      "/Users/Azeemdor/.virtualenvs/keras_tf_3.6/lib/python3.6/site-packages/matplotlib/axes/_base.py:1400: MatplotlibDeprecationWarning: The 'box-forced' keyword argument is deprecated since 2.2.\n",
      "  \" since 2.2.\", cbook.mplDeprecation)\n"
     ]
    },
    {
     "data": {
      "image/png": "[encoded data removed]",
      "text/plain": [
       "<Figure size 432x288 with 1 Axes>"
      ]
     },
     "metadata": {},
     "output_type": "display_data"
    },
    {
     "data": {
      "image/png": "[encoded data removed]",
      "text/plain": [
       "<Figure size 432x288 with 1 Axes>"
      ]
     },
     "metadata": {},
     "output_type": "display_data"
    }
   ],
   "source": [
    "# Check if training data looks all right\n",
    "ix = random.randint(0, len(train_ids))\n",
    "imshow(X_train[ix])\n",
    "plt.show()\n",
    "imshow(np.squeeze(Y_train[ix]))\n",
    "plt.show()"
   ]
  },
  {
   "cell_type": "markdown",
   "metadata": {
    "_cell_guid": "2574ffe9-b911-4bfd-a00f-9ba5c25f45de",
    "_uuid": "938648da705689a0f940ff462477c801db3f0737"
   },
   "source": [
    "# Create the metric\n",
    "\n",
    "The next part of this task is to implement the [mean average IoU](https://www.kaggle.com/c/data-science-bowl-2018#evaluation) which is essentially a way of characterizing how well our learned mask corresponds to the actual mask.  Note that this is a _metric_ and hence does not actually figure into the backpropogation. For the loss function, we use our trusty binary cross entropy. This is just our classic cross entropy calculation, with only two possible entries per pixel, a mask or no mask. Hence the binary part."
   ]
  },
  {
   "cell_type": "code",
   "execution_count": 17,
   "metadata": {
    "_cell_guid": "c1df6f3a-d58f-434b-9216-ef7be38637d4",
    "_uuid": "5abd38950ae99b60f8afec7656eb654a48d449fe",
    "collapsed": true
   },
   "outputs": [],
   "source": [
    "# Define IoU metric\n",
    "def mean_iou(y_true, y_pred):\n",
    "    prec = []\n",
    "    for t in np.arange(0.5, 1.0, 0.05):\n",
    "        y_pred_ = tf.to_int32(y_pred > t)\n",
    "        score, up_opt = tf.metrics.mean_iou(y_true, y_pred_, 2)\n",
    "        K.get_session().run(tf.local_variables_initializer())\n",
    "        with tf.control_dependencies([up_opt]):\n",
    "            score = tf.identity(score)\n",
    "        prec.append(score)\n",
    "    return K.mean(K.stack(prec), axis=0)"
   ]
  },
  {
   "cell_type": "markdown",
   "metadata": {
    "_cell_guid": "c3b9f148-1dba-4b6a-981b-6cdbf394fc3c",
    "_uuid": "986488a4c5223576be370e224426a30431911eb2"
   },
   "source": [
    "# Build and train our neural network\n",
    "Now we build our model based on [dilated convolutions](https://arxiv.org/abs/1511.07122). \n",
    "\n",
    "A visualization of this is the following (taken from [here](https://github.com/vdumoulin/conv_arithmetic/blob/master/gif/dilation.gif)):\n",
    "![](https://raw.githubusercontent.com/vdumoulin/conv_arithmetic/master/gif/dilation.gif)\n",
    "\n"
   ]
  },
  {
   "cell_type": "code",
   "execution_count": 18,
   "metadata": {
    "_cell_guid": "c1dbc57c-b497-4ccb-b077-2053203ab7ed",
    "_uuid": "0aa97d66c29f45dfac9b0f45fcf74ba0e778ba5d",
    "collapsed": false,
    "scrolled": false
   },
   "outputs": [
    {
     "name": "stdout",
     "output_type": "stream",
     "text": [
      "_________________________________________________________________\n",
      "Layer (type)                 Output Shape              Param #   \n",
      "=================================================================\n",
      "input_1 (InputLayer)         (None, 128, 128, 3)       0         \n",
      "_________________________________________________________________\n",
      "lambda_1 (Lambda)            (None, 128, 128, 3)       0         \n",
      "_________________________________________________________________\n",
      "conv2d_1 (Conv2D)            (None, 128, 128, 21)      588       \n",
      "_________________________________________________________________\n",
      "dropout_1 (Dropout)          (None, 128, 128, 21)      0         \n",
      "_________________________________________________________________\n",
      "conv2d_2 (Conv2D)            (None, 128, 128, 21)      3990      \n",
      "_________________________________________________________________\n",
      "dropout_2 (Dropout)          (None, 128, 128, 21)      0         \n",
      "_________________________________________________________________\n",
      "conv2d_3 (Conv2D)            (None, 128, 128, 21)      3990      \n",
      "_________________________________________________________________\n",
      "dropout_3 (Dropout)          (None, 128, 128, 21)      0         \n",
      "_________________________________________________________________\n",
      "conv2d_4 (Conv2D)            (None, 128, 128, 21)      3990      \n",
      "_________________________________________________________________\n",
      "dropout_4 (Dropout)          (None, 128, 128, 21)      0         \n",
      "_________________________________________________________________\n",
      "conv2d_5 (Conv2D)            (None, 128, 128, 21)      3990      \n",
      "_________________________________________________________________\n",
      "dropout_5 (Dropout)          (None, 128, 128, 21)      0         \n",
      "_________________________________________________________________\n",
      "conv2d_6 (Conv2D)            (None, 128, 128, 21)      3990      \n",
      "_________________________________________________________________\n",
      "dropout_6 (Dropout)          (None, 128, 128, 21)      0         \n",
      "_________________________________________________________________\n",
      "conv2d_7 (Conv2D)            (None, 128, 128, 21)      3990      \n",
      "_________________________________________________________________\n",
      "dropout_7 (Dropout)          (None, 128, 128, 21)      0         \n",
      "_________________________________________________________________\n",
      "conv2d_8 (Conv2D)            (None, 128, 128, 1)       22        \n",
      "=================================================================\n",
      "Total params: 24,550\n",
      "Trainable params: 24,550\n",
      "Non-trainable params: 0\n",
      "_________________________________________________________________\n"
     ]
    }
   ],
   "source": [
    "# Build U-Net model\n",
    "inputs = Input((IMG_HEIGHT, IMG_WIDTH, IMG_CHANNELS))\n",
    "s = Lambda(lambda x: x / 255) (inputs)\n",
    "\n",
    "c1 = Conv2D(21, (3, 3), dilation_rate=1, activation='elu', kernel_initializer='he_normal', padding='same')(s)\n",
    "c1 = Dropout(0.1) (c1)\n",
    "\n",
    "c2 = Conv2D(21, (3, 3), dilation_rate=1, activation='elu', kernel_initializer='he_normal', padding='same') (c1)\n",
    "c2 = Dropout(0.1) (c2)\n",
    "\n",
    "c3 = Conv2D(21, (3, 3), dilation_rate=2, activation='elu', kernel_initializer='he_normal', padding='same') (c2)\n",
    "c3 = Dropout(0.2) (c3)\n",
    "\n",
    "c4 = Conv2D(21, (3, 3), dilation_rate=4, activation='elu', kernel_initializer='he_normal', padding='same') (c3)\n",
    "c4 = Dropout(0.2) (c4)\n",
    "\n",
    "c5 = Conv2D(21, (3, 3), dilation_rate=8, activation='elu', kernel_initializer='he_normal', padding='same') (c4)\n",
    "c5 = Dropout(0.3) (c5)\n",
    "\n",
    "c6 = Conv2D(21, (3, 3), dilation_rate=16, activation='elu', kernel_initializer='he_normal', padding='same') (c5)\n",
    "c6 = Dropout(0.3) (c6)\n",
    "\n",
    "c7 = Conv2D(21, (3, 3), dilation_rate=1, activation='elu', kernel_initializer='he_normal', padding='same') (c6)\n",
    "c7 = Dropout(0.3) (c7)\n",
    "\n",
    "outputs = Conv2D(1, (1, 1), activation='sigmoid') (c7)\n",
    "\n",
    "model = Model(inputs=[inputs], outputs=[outputs])\n",
    "model.compile(optimizer='adam', loss='binary_crossentropy', metrics=[mean_iou])\n",
    "model.summary()"
   ]
  },
  {
   "cell_type": "markdown",
   "metadata": {
    "_cell_guid": "72330944-6ce7-4070-b276-c3c4b20c4fe5",
    "_uuid": "92350b6e18cc50f3fa7b6e9a02d39fcbff8238f7"
   },
   "source": [
    "We use [ELUs](https://en.wikipedia.org/wiki/Rectifier_(neural_networks), which are very closely related to their cousin the RELU. The parameter alpha = 0.3 for keras ELUs, although this can be changed.\n",
    "\n",
    "We use the following training parameters: a batch size of 16, 50 epochs, and a validation split of 0.1. To make things faster, we could reduce the number of epochs down to 10. Note that we only have about 600 samples, so things go by real fast. For my machine, each epoch ran in 2 minutes or so."
   ]
  },
  {
   "cell_type": "code",
   "execution_count": 19,
   "metadata": {
    "_cell_guid": "9415b1c4-aa69-41b9-a1e3-d6053dbd4f64",
    "_uuid": "c060db22daa2abf12b28240cd81bbcbf1ce1bf87",
    "collapsed": false,
    "scrolled": true
   },
   "outputs": [
    {
     "name": "stdout",
     "output_type": "stream",
     "text": [
      "Train on 603 samples, validate on 67 samples\n",
      "Epoch 1/50\n",
      "603/603 [==============================] - 121s 201ms/step - loss: 0.4893 - mean_iou: 0.4139 - val_loss: 0.4680 - val_mean_iou: 0.4298\n",
      "\n",
      "Epoch 00001: val_loss improved from inf to 0.46798, saving model to model-dsbowl2018-1.h5\n",
      "Epoch 2/50\n",
      "603/603 [==============================] - 128s 213ms/step - loss: 0.3778 - mean_iou: 0.4381 - val_loss: 0.2394 - val_mean_iou: 0.4551\n",
      "\n",
      "Epoch 00002: val_loss improved from 0.46798 to 0.23940, saving model to model-dsbowl2018-1.h5\n",
      "Epoch 3/50\n",
      "603/603 [==============================] - 117s 193ms/step - loss: 0.2488 - mean_iou: 0.4843 - val_loss: 0.1900 - val_mean_iou: 0.5143\n",
      "\n",
      "Epoch 00003: val_loss improved from 0.23940 to 0.19002, saving model to model-dsbowl2018-1.h5\n",
      "Epoch 4/50\n",
      "603/603 [==============================] - 121s 200ms/step - loss: 0.1937 - mean_iou: 0.5409 - val_loss: 0.1595 - val_mean_iou: 0.5632\n",
      "\n",
      "Epoch 00004: val_loss improved from 0.19002 to 0.15954, saving model to model-dsbowl2018-1.h5\n",
      "Epoch 5/50\n",
      "603/603 [==============================] - 117s 194ms/step - loss: 0.1728 - mean_iou: 0.5805 - val_loss: 0.1516 - val_mean_iou: 0.5962\n",
      "\n",
      "Epoch 00005: val_loss improved from 0.15954 to 0.15156, saving model to model-dsbowl2018-1.h5\n",
      "Epoch 6/50\n",
      "603/603 [==============================] - 114s 189ms/step - loss: 0.1553 - mean_iou: 0.6102 - val_loss: 0.1396 - val_mean_iou: 0.6225\n",
      "\n",
      "Epoch 00006: val_loss improved from 0.15156 to 0.13963, saving model to model-dsbowl2018-1.h5\n",
      "Epoch 7/50\n",
      "603/603 [==============================] - 122s 203ms/step - loss: 0.1438 - mean_iou: 0.6336 - val_loss: 0.1378 - val_mean_iou: 0.6436\n",
      "\n",
      "Epoch 00007: val_loss improved from 0.13963 to 0.13777, saving model to model-dsbowl2018-1.h5\n",
      "Epoch 8/50\n",
      "603/603 [==============================] - 118s 195ms/step - loss: 0.1411 - mean_iou: 0.6519 - val_loss: 0.1340 - val_mean_iou: 0.6597\n",
      "\n",
      "Epoch 00008: val_loss improved from 0.13777 to 0.13396, saving model to model-dsbowl2018-1.h5\n",
      "Epoch 9/50\n",
      "603/603 [==============================] - 117s 193ms/step - loss: 0.1326 - mean_iou: 0.6664 - val_loss: 0.1223 - val_mean_iou: 0.6732\n",
      "\n",
      "Epoch 00009: val_loss improved from 0.13396 to 0.12230, saving model to model-dsbowl2018-1.h5\n",
      "Epoch 10/50\n",
      "603/603 [==============================] - 117s 193ms/step - loss: 0.1276 - mean_iou: 0.6794 - val_loss: 0.1148 - val_mean_iou: 0.6850\n",
      "\n",
      "Epoch 00010: val_loss improved from 0.12230 to 0.11481, saving model to model-dsbowl2018-1.h5\n",
      "Epoch 11/50\n",
      "603/603 [==============================] - 122s 203ms/step - loss: 0.1246 - mean_iou: 0.6901 - val_loss: 0.1130 - val_mean_iou: 0.6951\n",
      "\n",
      "Epoch 00011: val_loss improved from 0.11481 to 0.11297, saving model to model-dsbowl2018-1.h5\n",
      "Epoch 12/50\n",
      "603/603 [==============================] - 115s 190ms/step - loss: 0.1221 - mean_iou: 0.6996 - val_loss: 0.1126 - val_mean_iou: 0.7037\n",
      "\n",
      "Epoch 00012: val_loss improved from 0.11297 to 0.11262, saving model to model-dsbowl2018-1.h5\n",
      "Epoch 13/50\n",
      "603/603 [==============================] - 112s 186ms/step - loss: 0.1174 - mean_iou: 0.7074 - val_loss: 0.1040 - val_mean_iou: 0.7111\n",
      "\n",
      "Epoch 00013: val_loss improved from 0.11262 to 0.10398, saving model to model-dsbowl2018-1.h5\n",
      "Epoch 14/50\n",
      "603/603 [==============================] - 122s 203ms/step - loss: 0.1149 - mean_iou: 0.7147 - val_loss: 0.1074 - val_mean_iou: 0.7181\n",
      "\n",
      "Epoch 00014: val_loss did not improve\n",
      "Epoch 15/50\n",
      "603/603 [==============================] - 123s 204ms/step - loss: 0.1130 - mean_iou: 0.7213 - val_loss: 0.1019 - val_mean_iou: 0.7241\n",
      "\n",
      "Epoch 00015: val_loss improved from 0.10398 to 0.10187, saving model to model-dsbowl2018-1.h5\n",
      "Epoch 16/50\n",
      "603/603 [==============================] - 121s 201ms/step - loss: 0.1105 - mean_iou: 0.7270 - val_loss: 0.1022 - val_mean_iou: 0.7296\n",
      "\n",
      "Epoch 00016: val_loss did not improve\n",
      "Epoch 17/50\n",
      "603/603 [==============================] - 115s 191ms/step - loss: 0.1070 - mean_iou: 0.7322 - val_loss: 0.0994 - val_mean_iou: 0.7347\n",
      "\n",
      "Epoch 00017: val_loss improved from 0.10187 to 0.09937, saving model to model-dsbowl2018-1.h5\n",
      "Epoch 18/50\n",
      "603/603 [==============================] - 259s 430ms/step - loss: 0.1071 - mean_iou: 0.7371 - val_loss: 0.0936 - val_mean_iou: 0.7393\n",
      "\n",
      "Epoch 00018: val_loss improved from 0.09937 to 0.09356, saving model to model-dsbowl2018-1.h5\n",
      "Epoch 19/50\n",
      "603/603 [==============================] - 121s 201ms/step - loss: 0.1056 - mean_iou: 0.7416 - val_loss: 0.0998 - val_mean_iou: 0.7436\n",
      "\n",
      "Epoch 00019: val_loss did not improve\n",
      "Epoch 20/50\n",
      "603/603 [==============================] - 111s 185ms/step - loss: 0.1026 - mean_iou: 0.7454 - val_loss: 0.0927 - val_mean_iou: 0.7474\n",
      "\n",
      "Epoch 00020: val_loss improved from 0.09356 to 0.09271, saving model to model-dsbowl2018-1.h5\n",
      "Epoch 21/50\n",
      "603/603 [==============================] - 216s 359ms/step - loss: 0.1008 - mean_iou: 0.7494 - val_loss: 0.0883 - val_mean_iou: 0.7511\n",
      "\n",
      "Epoch 00021: val_loss improved from 0.09271 to 0.08830, saving model to model-dsbowl2018-1.h5\n",
      "Epoch 22/50\n",
      "603/603 [==============================] - 338s 561ms/step - loss: 0.1003 - mean_iou: 0.7529 - val_loss: 0.0919 - val_mean_iou: 0.7544\n",
      "\n",
      "Epoch 00022: val_loss did not improve\n",
      "Epoch 23/50\n",
      "603/603 [==============================] - 110s 183ms/step - loss: 0.0981 - mean_iou: 0.7562 - val_loss: 0.0885 - val_mean_iou: 0.7576\n",
      "\n",
      "Epoch 00023: val_loss did not improve\n",
      "Epoch 24/50\n",
      "603/603 [==============================] - 273s 452ms/step - loss: 0.0975 - mean_iou: 0.7592 - val_loss: 0.0859 - val_mean_iou: 0.7606\n",
      "\n",
      "Epoch 00024: val_loss improved from 0.08830 to 0.08591, saving model to model-dsbowl2018-1.h5\n",
      "Epoch 25/50\n",
      "603/603 [==============================] - 111s 184ms/step - loss: 0.0964 - mean_iou: 0.7619 - val_loss: 0.0947 - val_mean_iou: 0.7634\n",
      "\n",
      "Epoch 00025: val_loss did not improve\n",
      "Epoch 26/50\n",
      "603/603 [==============================] - 111s 184ms/step - loss: 0.0954 - mean_iou: 0.7647 - val_loss: 0.0850 - val_mean_iou: 0.7660\n",
      "\n",
      "Epoch 00026: val_loss improved from 0.08591 to 0.08499, saving model to model-dsbowl2018-1.h5\n",
      "Epoch 27/50\n",
      "603/603 [==============================] - 122s 203ms/step - loss: 0.0934 - mean_iou: 0.7673 - val_loss: 0.0845 - val_mean_iou: 0.7685\n",
      "\n",
      "Epoch 00027: val_loss improved from 0.08499 to 0.08454, saving model to model-dsbowl2018-1.h5\n",
      "Epoch 28/50\n",
      "603/603 [==============================] - 118s 196ms/step - loss: 0.0934 - mean_iou: 0.7697 - val_loss: 0.0843 - val_mean_iou: 0.7708\n",
      "\n",
      "Epoch 00028: val_loss improved from 0.08454 to 0.08426, saving model to model-dsbowl2018-1.h5\n",
      "Epoch 29/50\n",
      "603/603 [==============================] - 112s 186ms/step - loss: 0.0921 - mean_iou: 0.7720 - val_loss: 0.0846 - val_mean_iou: 0.7731\n",
      "\n",
      "Epoch 00029: val_loss did not improve\n",
      "Epoch 30/50\n",
      "603/603 [==============================] - 111s 183ms/step - loss: 0.0915 - mean_iou: 0.7741 - val_loss: 0.0914 - val_mean_iou: 0.7752\n",
      "\n",
      "Epoch 00030: val_loss did not improve\n",
      "Epoch 31/50\n",
      "603/603 [==============================] - 117s 195ms/step - loss: 0.0927 - mean_iou: 0.7762 - val_loss: 0.0856 - val_mean_iou: 0.7771\n",
      "\n",
      "Epoch 00031: val_loss did not improve\n",
      "Epoch 32/50\n",
      "603/603 [==============================] - 109s 181ms/step - loss: 0.0915 - mean_iou: 0.7781 - val_loss: 0.0823 - val_mean_iou: 0.7789\n",
      "\n",
      "Epoch 00032: val_loss improved from 0.08426 to 0.08232, saving model to model-dsbowl2018-1.h5\n",
      "Epoch 33/50\n",
      "603/603 [==============================] - 127s 211ms/step - loss: 0.0892 - mean_iou: 0.7799 - val_loss: 0.0821 - val_mean_iou: 0.7808\n",
      "\n",
      "Epoch 00033: val_loss improved from 0.08232 to 0.08215, saving model to model-dsbowl2018-1.h5\n",
      "Epoch 34/50\n",
      "603/603 [==============================] - 115s 191ms/step - loss: 0.0887 - mean_iou: 0.7817 - val_loss: 0.0850 - val_mean_iou: 0.7825\n",
      "\n",
      "Epoch 00034: val_loss did not improve\n",
      "Epoch 35/50\n",
      "603/603 [==============================] - 122s 202ms/step - loss: 0.0879 - mean_iou: 0.7834 - val_loss: 0.0793 - val_mean_iou: 0.7842\n",
      "\n",
      "Epoch 00035: val_loss improved from 0.08215 to 0.07929, saving model to model-dsbowl2018-1.h5\n",
      "Epoch 36/50\n",
      "603/603 [==============================] - 114s 189ms/step - loss: 0.0883 - mean_iou: 0.7850 - val_loss: 0.0813 - val_mean_iou: 0.7857\n",
      "\n",
      "Epoch 00036: val_loss did not improve\n",
      "Epoch 37/50\n",
      "603/603 [==============================] - 115s 191ms/step - loss: 0.0875 - mean_iou: 0.7865 - val_loss: 0.0818 - val_mean_iou: 0.7872\n",
      "\n",
      "Epoch 00037: val_loss did not improve\n",
      "Epoch 38/50\n",
      "603/603 [==============================] - 119s 198ms/step - loss: 0.0877 - mean_iou: 0.7881 - val_loss: 0.0810 - val_mean_iou: 0.7887\n",
      "\n",
      "Epoch 00038: val_loss did not improve\n",
      "Epoch 39/50\n",
      "603/603 [==============================] - 122s 202ms/step - loss: 0.0854 - mean_iou: 0.7893 - val_loss: 0.0846 - val_mean_iou: 0.7900\n",
      "\n",
      "Epoch 00039: val_loss did not improve\n",
      "Epoch 40/50\n",
      "603/603 [==============================] - 116s 193ms/step - loss: 0.0864 - mean_iou: 0.7907 - val_loss: 0.0819 - val_mean_iou: 0.7914\n",
      "\n",
      "Epoch 00040: val_loss did not improve\n",
      "Epoch 00040: early stopping\n"
     ]
    }
   ],
   "source": [
    "# Fit model\n",
    "earlystopper = EarlyStopping(patience=5, verbose=1)\n",
    "checkpointer = ModelCheckpoint('model-dsbowl2018-1.h5', verbose=1, save_best_only=True)\n",
    "results = model.fit(X_train, Y_train, validation_split=0.1, batch_size=16, epochs=50, \n",
    "                    callbacks=[earlystopper, checkpointer])"
   ]
  },
  {
   "cell_type": "markdown",
   "metadata": {
    "_cell_guid": "1f381f5b-1b71-4daa-a417-e02f4894540b",
    "_uuid": "bb15226ea617cf91ed8f43179fccb5a15809e5a0"
   },
   "source": [
    "Our loss decreases systematically. Early stopping is used to prevent overfitting.\n",
    "\n",
    "# Make predictions\n",
    "\n",
    "Let's make predictions both on the test set, the val set and the train set (as a sanity check)."
   ]
  },
  {
   "cell_type": "code",
   "execution_count": 20,
   "metadata": {
    "_cell_guid": "2daa48d5-ac98-4e18-af3f-a582baaa44f0",
    "_uuid": "f841760b4abca1a25cb750822f88268bd79bf2ce",
    "collapsed": false,
    "scrolled": true
   },
   "outputs": [
    {
     "name": "stdout",
     "output_type": "stream",
     "text": [
      "603/603 [==============================] - 44s 73ms/step\n",
      "67/67 [==============================] - 5s 73ms/step\n",
      "65/65 [==============================] - 5s 73ms/step\n"
     ]
    }
   ],
   "source": [
    "# Predict on train, val and test\n",
    "model = load_model('model-dsbowl2018-1.h5', custom_objects={'mean_iou': mean_iou})\n",
    "preds_train = model.predict(X_train[:int(X_train.shape[0]*0.9)], verbose=1)\n",
    "preds_val = model.predict(X_train[int(X_train.shape[0]*0.9):], verbose=1)\n",
    "preds_test = model.predict(X_test, verbose=1)\n",
    "\n",
    "# Threshold predictions\n",
    "preds_train_t = (preds_train > 0.5).astype(np.uint8)\n",
    "preds_val_t = (preds_val > 0.5).astype(np.uint8)\n",
    "preds_test_t = (preds_test > 0.5).astype(np.uint8)\n",
    "\n",
    "# Create list of upsampled test masks\n",
    "preds_test_upsampled = []\n",
    "for i in range(len(preds_test)):\n",
    "    preds_test_upsampled.append(resize(np.squeeze(preds_test[i]), \n",
    "                                       (sizes_test[i][0], sizes_test[i][1]), \n",
    "                                       mode='constant', preserve_range=True))"
   ]
  },
  {
   "cell_type": "code",
   "execution_count": 22,
   "metadata": {
    "collapsed": false
   },
   "outputs": [
    {
     "data": {
      "text/plain": [
       "315"
      ]
     },
     "execution_count": 22,
     "metadata": {},
     "output_type": "execute_result"
    }
   ],
   "source": [
    "ix"
   ]
  },
  {
   "cell_type": "code",
   "execution_count": 23,
   "metadata": {
    "_cell_guid": "649248cd-a1fb-4da6-ade2-4bebad44bcab",
    "_uuid": "7e06242a50870e07a080064a4912b761775990fa",
    "collapsed": false
   },
   "outputs": [
    {
     "name": "stderr",
     "output_type": "stream",
     "text": [
      "/Users/Azeemdor/.virtualenvs/keras_tf_3.6/lib/python3.6/site-packages/skimage/io/_plugins/matplotlib_plugin.py:51: FutureWarning: Conversion of the second argument of issubdtype from `float` to `np.floating` is deprecated. In future, it will be treated as `np.float64 == np.dtype(float).type`.\n",
      "  out_of_range_float = (np.issubdtype(image.dtype, np.float) and\n",
      "/Users/Azeemdor/.virtualenvs/keras_tf_3.6/lib/python3.6/site-packages/matplotlib/axes/_base.py:1400: MatplotlibDeprecationWarning: The 'box-forced' keyword argument is deprecated since 2.2.\n",
      "  \" since 2.2.\", cbook.mplDeprecation)\n"
     ]
    },
    {
     "data": {
      "image/png": "[encoded data removed]",
      "text/plain": [
       "<Figure size 432x288 with 1 Axes>"
      ]
     },
     "metadata": {},
     "output_type": "display_data"
    },
    {
     "data": {
      "image/png": "[encoded data removed]",
      "text/plain": [
       "<Figure size 432x288 with 1 Axes>"
      ]
     },
     "metadata": {},
     "output_type": "display_data"
    },
    {
     "data": {
      "image/png": "[encoded data removed]",
      "text/plain": [
       "<Figure size 432x288 with 2 Axes>"
      ]
     },
     "metadata": {},
     "output_type": "display_data"
    }
   ],
   "source": [
    "# Perform a sanity check on some random training samples\n",
    "ix = random.randint(0, len(preds_train_t))\n",
    "imshow(X_train[ix])\n",
    "plt.show()\n",
    "imshow(np.squeeze(Y_train[ix]))\n",
    "plt.show()\n",
    "imshow(np.squeeze(preds_train_t[ix]))\n",
    "plt.show()"
   ]
  },
  {
   "cell_type": "markdown",
   "metadata": {
    "_cell_guid": "af602aea-5e56-42a8-9331-54b4b2650593",
    "_uuid": "5fcee2b9aee2fba5c60d43ad48a14139e9c1318c"
   },
   "source": [
    "The model is at least able to fit to the training data! Certainly a lot of room for improvement even here, but a decent start. How about the validation data?"
   ]
  },
  {
   "cell_type": "code",
   "execution_count": 24,
   "metadata": {
    "_cell_guid": "4f66b75c-c694-41a1-8c91-34bb6595837b",
    "_uuid": "d4ccbb559375bc2777ffb692a20adc313159f2cc",
    "collapsed": false
   },
   "outputs": [
    {
     "name": "stderr",
     "output_type": "stream",
     "text": [
      "/Users/Azeemdor/.virtualenvs/keras_tf_3.6/lib/python3.6/site-packages/skimage/io/_plugins/matplotlib_plugin.py:51: FutureWarning: Conversion of the second argument of issubdtype from `float` to `np.floating` is deprecated. In future, it will be treated as `np.float64 == np.dtype(float).type`.\n",
      "  out_of_range_float = (np.issubdtype(image.dtype, np.float) and\n",
      "/Users/Azeemdor/.virtualenvs/keras_tf_3.6/lib/python3.6/site-packages/matplotlib/axes/_base.py:1400: MatplotlibDeprecationWarning: The 'box-forced' keyword argument is deprecated since 2.2.\n",
      "  \" since 2.2.\", cbook.mplDeprecation)\n"
     ]
    },
    {
     "data": {
      "image/png": "[encoded data removed]",
      "text/plain": [
       "<Figure size 432x288 with 1 Axes>"
      ]
     },
     "metadata": {},
     "output_type": "display_data"
    },
    {
     "data": {
      "image/png": "[encoded data removed]",
      "text/plain": [
       "<Figure size 432x288 with 1 Axes>"
      ]
     },
     "metadata": {},
     "output_type": "display_data"
    },
    {
     "data": {
      "image/png": "[encoded data removed]",
      "text/plain": [
       "<Figure size 432x288 with 2 Axes>"
      ]
     },
     "metadata": {},
     "output_type": "display_data"
    }
   ],
   "source": [
    "# Perform a sanity check on some random validation samples\n",
    "ix = random.randint(0, len(preds_val_t))\n",
    "imshow(X_train[int(X_train.shape[0]*0.9):][ix])\n",
    "plt.show()\n",
    "imshow(np.squeeze(Y_train[int(Y_train.shape[0]*0.9):][ix]))\n",
    "plt.show()\n",
    "imshow(np.squeeze(preds_val_t[ix]))\n",
    "plt.show()"
   ]
  },
  {
   "cell_type": "markdown",
   "metadata": {
    "_cell_guid": "a6690535-b2e4-49ac-98d9-7191bfabfb6f",
    "_uuid": "6a34c98de7c6ae473f676a34fe7e099b46764eca"
   },
   "source": [
    "We need to do more training, and also change the architecture.\n",
    "\n",
    "# Encode and submit our results\n",
    "\n",
    "Now it's time to submit our results. I've stolen [this](https://www.kaggle.com/rakhlin/fast-run-length-encoding-python) excellent implementation of run-length encoding."
   ]
  },
  {
   "cell_type": "code",
   "execution_count": 25,
   "metadata": {
    "_cell_guid": "59a0af60-a7d7-41ef-a6fe-9e3c72defa07",
    "_kg_hide-output": true,
    "_uuid": "4f99c1bf852e82b60bd4f982ca0df293f712cdf0",
    "collapsed": true
   },
   "outputs": [],
   "source": [
    "# Run-length encoding stolen from https://www.kaggle.com/rakhlin/fast-run-length-encoding-python\n",
    "def rle_encoding(x):\n",
    "    dots = np.where(x.T.flatten() == 1)[0]\n",
    "    run_lengths = []\n",
    "    prev = -2\n",
    "    for b in dots:\n",
    "        if (b>prev+1): run_lengths.extend((b + 1, 0))\n",
    "        run_lengths[-1] += 1\n",
    "        prev = b\n",
    "    return run_lengths\n",
    "\n",
    "def prob_to_rles(x, cutoff=0.5):\n",
    "    lab_img = label(x > cutoff)\n",
    "    for i in range(1, lab_img.max() + 1):\n",
    "        yield rle_encoding(lab_img == i)"
   ]
  },
  {
   "cell_type": "markdown",
   "metadata": {
    "_cell_guid": "31133f8c-3f40-4dff-8e1d-898d56672332",
    "_uuid": "2e07f6afc4787b068ba714428145dcb3951d718f"
   },
   "source": [
    "Let's iterate over the test IDs and generate run-length encodings for each seperate mask identified by skimage ..."
   ]
  },
  {
   "cell_type": "code",
   "execution_count": 26,
   "metadata": {
    "_cell_guid": "22fe24a1-7659-4cc9-9d23-211f38e5b99f",
    "_kg_hide-output": true,
    "_uuid": "089587843ed6a3955fdcb9b23a6ec3bf5d703688",
    "collapsed": true
   },
   "outputs": [],
   "source": [
    "new_test_ids = []\n",
    "rles = []\n",
    "for n, id_ in enumerate(test_ids):\n",
    "    rle = list(prob_to_rles(preds_test_upsampled[n]))\n",
    "    rles.extend(rle)\n",
    "    new_test_ids.extend([id_] * len(rle))"
   ]
  },
  {
   "cell_type": "markdown",
   "metadata": {
    "_cell_guid": "20b6b627-0fd6-425d-888f-da7f39efb124",
    "_uuid": "849184a40a2c9c21506d8b8eb10ad9155fa229e8"
   },
   "source": [
    "... and then finally create our submission!"
   ]
  },
  {
   "cell_type": "code",
   "execution_count": 27,
   "metadata": {
    "_cell_guid": "1ba0ee3a-cca0-4349-83f6-09a1ac6fcb44",
    "_kg_hide-input": false,
    "_kg_hide-output": false,
    "_uuid": "ba589f56f5be1e6886bc88f5bf9e7d0a408e4048",
    "collapsed": false
   },
   "outputs": [
    {
     "name": "stdout",
     "output_type": "stream",
     "text": [
      "None\n"
     ]
    }
   ],
   "source": [
    "# Create submission DataFrame\n",
    "sub = pd.DataFrame()\n",
    "sub['ImageId'] = new_test_ids\n",
    "sub['EncodedPixels'] = pd.Series(rles).apply(lambda x: ' '.join(str(y) for y in x))\n",
    "print(sub.to_csv('sub-dsbowl2018-1.csv', index=False))"
   ]
  },
  {
   "cell_type": "markdown",
   "metadata": {
    "_cell_guid": "222475b9-3171-461a-90f0-a820a6bd2634",
    "_uuid": "fb5e6f8cca872f1bd7036f6d9ac2ed2cab615536",
    "collapsed": true
   },
   "source": [
    "This scored 0.233 on the LB for me. That was with version 2 of this notebook; be aware that the results from the neural network are extremely erratic and vary greatly from run to run (version 3 is significantly worse, for example). Version 7 scores 0.277!\n",
    "\n",
    "You should easily be able to stabilize and improve the results just by changing a few parameters, tweaking the architecture a little bit and training longer with early stopping.\n",
    "\n",
    "**Have fun!**\n",
    "\n",
    "LB score history:\n",
    "- Version 7: 0.277 LB"
   ]
  }
 ],
 "metadata": {
  "anaconda-cloud": {},
  "kernelspec": {
   "display_name": "keras3.6",
   "language": "python",
   "name": "keras3.6"
  },
  "language_info": {
   "codemirror_mode": {
    "name": "ipython",
    "version": 3
   },
   "file_extension": ".py",
   "mimetype": "text/x-python",
   "name": "python",
   "nbconvert_exporter": "python",
   "pygments_lexer": "ipython3",
   "version": "3.6.0"
  }
 },
 "nbformat": 4,
 "nbformat_minor": 1
}
